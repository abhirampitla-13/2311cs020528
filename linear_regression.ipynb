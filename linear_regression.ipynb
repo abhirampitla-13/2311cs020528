{
  "nbformat": 4,
  "nbformat_minor": 0,
  "metadata": {
    "colab": {
      "provenance": [],
      "authorship_tag": "ABX9TyPplidDgmFj9wao1YN0G4Ho",
      "include_colab_link": true
    },
    "kernelspec": {
      "name": "python3",
      "display_name": "Python 3"
    },
    "language_info": {
      "name": "python"
    }
  },
  "cells": [
    {
      "cell_type": "markdown",
      "metadata": {
        "id": "view-in-github",
        "colab_type": "text"
      },
      "source": [
        "<a href=\"https://colab.research.google.com/github/abhirampitla-13/2311cs020528/blob/main/linear_regression.ipynb\" target=\"_parent\"><img src=\"https://colab.research.google.com/assets/colab-badge.svg\" alt=\"Open In Colab\"/></a>"
      ]
    },
    {
      "cell_type": "code",
      "execution_count": 1,
      "metadata": {
        "colab": {
          "base_uri": "https://localhost:8080/"
        },
        "id": "JrfiUPbYXyiB",
        "outputId": "b2ed2ba4-cc18-4c74-9406-f211deaa3a4e"
      },
      "outputs": [
        {
          "output_type": "stream",
          "name": "stdout",
          "text": [
            "Accuracy: 1.00\n",
            "Odds Ratio: [[2.04588459 1.14202615]]\n"
          ]
        }
      ],
      "source": [
        "import numpy as np\n",
        "import pandas as pd\n",
        "from sklearn.model_selection import train_test_split\n",
        "from sklearn.linear_model import LogisticRegression\n",
        "from sklearn.metrics import accuracy_score\n",
        "\n",
        "data = {\n",
        "'Age': [25, 30, 35, 40, 45, 50, 55, 60, 65, 70],\n",
        "'Smoker': [0, 1, 0, 1, 0, 1, 0, 1, 0, 1],\n",
        "'Outcome': [0, 0, 0, 1, 1, 1, 1, 1, 1, 1]\n",
        "}\n",
        "df = pd.DataFrame(data)\n",
        "y = df['Outcome']\n",
        "X = df[['Age', 'Smoker']] # X was not defined\n",
        "X_train, X_test, y_train, y_test = train_test_split(X, y, test_size=0.2, random_state=42) # Train a logistic regression model\n",
        "model = LogisticRegression()\n",
        "model.fit(X_train, y_train)\n",
        "y_pred = model.predict(X_test) # y_pred was not defined\n",
        "accuracy = accuracy_score(y_test, y_pred)\n",
        "print(f'Accuracy: {accuracy:.2f}')\n",
        "odds_ratio = np.exp(model.coef_)\n",
        "print(f'Odds Ratio: {odds_ratio}')"
      ]
    },
    {
      "cell_type": "code",
      "source": [],
      "metadata": {
        "id": "SBtX8dG_X2Yc"
      },
      "execution_count": null,
      "outputs": []
    }
  ]
}