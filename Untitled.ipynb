{
  "nbformat": 4,
  "nbformat_minor": 0,
  "metadata": {
    "colab": {
      "provenance": [],
      "authorship_tag": "ABX9TyPAmJ1LCd5sPIUsMXNArFx7",
      "include_colab_link": true
    },
    "kernelspec": {
      "name": "python3",
      "display_name": "Python 3"
    },
    "language_info": {
      "name": "python"
    }
  },
  "cells": [
    {
      "cell_type": "markdown",
      "metadata": {
        "id": "view-in-github",
        "colab_type": "text"
      },
      "source": [
        "<a href=\"https://colab.research.google.com/github/abhirampitla-13/2311cs020528/blob/main/Untitled.ipynb\" target=\"_parent\"><img src=\"https://colab.research.google.com/assets/colab-badge.svg\" alt=\"Open In Colab\"/></a>"
      ]
    },
    {
      "cell_type": "code",
      "execution_count": 9,
      "metadata": {
        "colab": {
          "base_uri": "https://localhost:8080/"
        },
        "id": "iHhRCyZwaMlb",
        "outputId": "528ce7be-79a0-46fd-abdc-b6c08c42cccc"
      },
      "outputs": [
        {
          "output_type": "stream",
          "name": "stdout",
          "text": [
            "The sum is: 8\n"
          ]
        }
      ],
      "source": [
        "x = 5\n",
        "y = 3\n",
        "\n",
        "# Calculate the sum\n",
        "sum_of_numbers = x + y\n",
        "\n",
        "# Print the result\n",
        "print(\"The sum is:\", sum_of_numbers)"
      ]
    }
  ]
}