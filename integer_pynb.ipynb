{
  "nbformat": 4,
  "nbformat_minor": 0,
  "metadata": {
    "colab": {
      "provenance": [],
      "authorship_tag": "ABX9TyOvLedRxIjdOL24Uie74aiC",
      "include_colab_link": true
    },
    "kernelspec": {
      "name": "python3",
      "display_name": "Python 3"
    },
    "language_info": {
      "name": "python"
    }
  },
  "cells": [
    {
      "cell_type": "markdown",
      "metadata": {
        "id": "view-in-github",
        "colab_type": "text"
      },
      "source": [
        "<a href=\"https://colab.research.google.com/github/abhirampitla-13/2311cs020528/blob/main/integer_pynb.ipynb\" target=\"_parent\"><img src=\"https://colab.research.google.com/assets/colab-badge.svg\" alt=\"Open In Colab\"/></a>"
      ]
    },
    {
      "cell_type": "code",
      "execution_count": 5,
      "metadata": {
        "colab": {
          "base_uri": "https://localhost:8080/"
        },
        "id": "ZZtE90IAnvVP",
        "outputId": "4c1b2480-af2f-4da9-fc96-3e08b796feb0"
      },
      "outputs": [
        {
          "output_type": "stream",
          "name": "stdout",
          "text": [
            "Enter a positive integer: 3\n",
            "The sum of all even numbers between 1 and 3 is: 2\n"
          ]
        }
      ],
      "source": [
        "# Taking input for the integer n\n",
        "n = int(input(\"Enter a positive integer: \"))\n",
        "\n",
        "# Initialize sum to 0\n",
        "sum_even_numbers = 0\n",
        "\n",
        "# Loop through numbers from 1 to n and add even numbers to sum\n",
        "for i in range(2, n + 1, 2):  # Start from 2, increment by 2 to get even numbers\n",
        "    sum_even_numbers += i\n",
        "\n",
        "# Print the result\n",
        "print(\"The sum of all even numbers between 1 and\", n, \"is:\", sum_even_numbers)\n"
      ]
    },
    {
      "cell_type": "code",
      "source": [
        "\n"
      ],
      "metadata": {
        "id": "_RY0ZglinzM9"
      },
      "execution_count": null,
      "outputs": []
    }
  ]
}