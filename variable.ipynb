{
  "nbformat": 4,
  "nbformat_minor": 0,
  "metadata": {
    "colab": {
      "provenance": [],
      "authorship_tag": "ABX9TyO1ox/vsn8ZWF+ULP2r8nW5",
      "include_colab_link": true
    },
    "kernelspec": {
      "name": "python3",
      "display_name": "Python 3"
    },
    "language_info": {
      "name": "python"
    }
  },
  "cells": [
    {
      "cell_type": "markdown",
      "metadata": {
        "id": "view-in-github",
        "colab_type": "text"
      },
      "source": [
        "<a href=\"https://colab.research.google.com/github/abhirampitla-13/2311cs020528/blob/main/variable.ipynb\" target=\"_parent\"><img src=\"https://colab.research.google.com/assets/colab-badge.svg\" alt=\"Open In Colab\"/></a>"
      ]
    },
    {
      "cell_type": "code",
      "execution_count": 1,
      "metadata": {
        "colab": {
          "base_uri": "https://localhost:8080/"
        },
        "id": "ZZtE90IAnvVP",
        "outputId": "656c0575-df84-4ac1-8452-ff99e8b8f7d2"
      },
      "outputs": [
        {
          "output_type": "stream",
          "name": "stdout",
          "text": [
            "Integer variable: 10 Type: <class 'int'>\n",
            "Float variable: 3.14 Type: <class 'float'>\n",
            "String variable: Hello, Jupyter! Type: <class 'str'>\n",
            "Boolean variable: True Type: <class 'bool'>\n"
          ]
        }
      ],
      "source": [
        "# Declaring variables of different data types\n",
        "integer_var = 10\n",
        "float_var = 3.14\n",
        "string_var = \"Hello, Jupyter!\"\n",
        "boolean_var = True\n",
        "\n",
        "# Printing each variable and its type\n",
        "print(\"Integer variable:\", integer_var, \"Type:\", type(integer_var))\n",
        "print(\"Float variable:\", float_var, \"Type:\", type(float_var))\n",
        "print(\"String variable:\", string_var, \"Type:\", type(string_var))\n",
        "print(\"Boolean variable:\", boolean_var, \"Type:\", type(boolean_var))\n"
      ]
    },
    {
      "cell_type": "code",
      "source": [],
      "metadata": {
        "id": "_RY0ZglinzM9"
      },
      "execution_count": null,
      "outputs": []
    }
  ]
}