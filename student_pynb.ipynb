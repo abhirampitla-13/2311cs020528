{
  "nbformat": 4,
  "nbformat_minor": 0,
  "metadata": {
    "colab": {
      "provenance": [],
      "authorship_tag": "ABX9TyPOJX01dnxT+1CzREIFZigE",
      "include_colab_link": true
    },
    "kernelspec": {
      "name": "python3",
      "display_name": "Python 3"
    },
    "language_info": {
      "name": "python"
    }
  },
  "cells": [
    {
      "cell_type": "markdown",
      "metadata": {
        "id": "view-in-github",
        "colab_type": "text"
      },
      "source": [
        "<a href=\"https://colab.research.google.com/github/abhirampitla-13/2311cs020528/blob/main/student_pynb.ipynb\" target=\"_parent\"><img src=\"https://colab.research.google.com/assets/colab-badge.svg\" alt=\"Open In Colab\"/></a>"
      ]
    },
    {
      "cell_type": "code",
      "execution_count": 3,
      "metadata": {
        "colab": {
          "base_uri": "https://localhost:8080/"
        },
        "id": "ZZtE90IAnvVP",
        "outputId": "8c11cbce-6fe6-46fc-bc40-34644b77b9cc"
      },
      "outputs": [
        {
          "output_type": "stream",
          "name": "stdout",
          "text": [
            "Enter marks for subject 1: 10\n",
            "Enter marks for subject 2: 30\n",
            "Enter marks for subject 3: 78\n",
            "Grade: Fail\n"
          ]
        }
      ],
      "source": [
        "# Taking input for the marks of three subjects\n",
        "marks1 = float(input(\"Enter marks for subject 1: \"))\n",
        "marks2 = float(input(\"Enter marks for subject 2: \"))\n",
        "marks3 = float(input(\"Enter marks for subject 3: \"))\n",
        "\n",
        "# Calculating the average of the three marks\n",
        "average = (marks1 + marks2 + marks3) / 3\n",
        "\n",
        "# Printing the grade based on the average\n",
        "if average >= 90:\n",
        "    print(\"Grade: A\")\n",
        "elif 80 <= average < 90:\n",
        "    print(\"Grade: B\")\n",
        "elif 70 <= average < 80:\n",
        "    print(\"Grade: C\")\n",
        "else:\n",
        "    print(\"Grade: Fail\")\n"
      ]
    },
    {
      "cell_type": "code",
      "source": [
        "\n"
      ],
      "metadata": {
        "id": "_RY0ZglinzM9"
      },
      "execution_count": null,
      "outputs": []
    }
  ]
}