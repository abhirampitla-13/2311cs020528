{
  "nbformat": 4,
  "nbformat_minor": 0,
  "metadata": {
    "colab": {
      "provenance": [],
      "authorship_tag": "ABX9TyOESng9nFOW58YmcCffufTR",
      "include_colab_link": true
    },
    "kernelspec": {
      "name": "python3",
      "display_name": "Python 3"
    },
    "language_info": {
      "name": "python"
    }
  },
  "cells": [
    {
      "cell_type": "markdown",
      "metadata": {
        "id": "view-in-github",
        "colab_type": "text"
      },
      "source": [
        "<a href=\"https://colab.research.google.com/github/abhirampitla-13/2311cs020528/blob/main/principal_component.ipynb\" target=\"_parent\"><img src=\"https://colab.research.google.com/assets/colab-badge.svg\" alt=\"Open In Colab\"/></a>"
      ]
    },
    {
      "cell_type": "code",
      "source": [
        "import numpy as np\n",
        "\n",
        "# Step 1: Data standardization\n",
        "def standardize(X):\n",
        "    return (X - np.mean(X, axis=0)) / np.std(X, axis=0)\n",
        "\n",
        "# Step 2: Covariance matrix calculation\n",
        "def compute_covariance_matrix(X):\n",
        "    return np.cov(X.T)\n",
        "\n",
        "# Step 3: Eigenvalue and eigenvector calculation\n",
        "def find_eigenvectors_and_eigenvalues(X):\n",
        "    cov_matrix = compute_covariance_matrix(X)\n",
        "    eigenvalues, eigenvectors = np.linalg.eig(cov_matrix)\n",
        "    return eigenvalues, eigenvectors\n",
        "\n",
        "# Step 4: Principal component calculation\n",
        "def project_data(X, eigenvectors, k):\n",
        "    sorted_index = np.argsort(eigenvalues)[::-1]  # Sort eigenvalues in descending order\n",
        "    sorted_eigenvectors = eigenvectors[:, sorted_index[:k]]  # Select top k eigenvectors\n",
        "    return np.dot(X, sorted_eigenvectors)\n",
        "\n",
        "# Step 5: Dimensionality reduction\n",
        "def get_variance_explained(eigenvalues, k):\n",
        "    return sum(eigenvalues[:k]) / sum(eigenvalues)\n",
        "\n",
        "# Example usage\n",
        "X = np.array([[1, 2, 3], [4, 5, 6], [7, 8, 9]])\n",
        "X_std = standardize(X)\n",
        "eigenvalues, eigenvectors = find_eigenvectors_and_eigenvalues(X_std)\n",
        "projected_data = project_data(X_std, eigenvectors, 2)\n",
        "variance_explained = get_variance_explained(eigenvalues, 2)\n",
        "\n",
        "print(\"Standardized data:\")\n",
        "print(X_std)\n",
        "print(\"Covariance matrix:\")\n",
        "print(compute_covariance_matrix(X_std))\n",
        "print(\"Eigenvalues:\")\n",
        "print(eigenvalues)\n",
        "print(\"Eigenvectors:\")\n",
        "print(eigenvectors)\n",
        "print(\"Projected data:\")\n",
        "print(projected_data)\n",
        "print(\"Variance explained:\")\n",
        "print(variance_explained)"
      ],
      "metadata": {
        "colab": {
          "base_uri": "https://localhost:8080/"
        },
        "id": "5dS82ngQixHd",
        "outputId": "0dbe6d07-5344-4d15-a93b-619c25468f0f"
      },
      "execution_count": 10,
      "outputs": [
        {
          "output_type": "stream",
          "name": "stdout",
          "text": [
            "Standardized data:\n",
            "[[-1.22474487 -1.22474487 -1.22474487]\n",
            " [ 0.          0.          0.        ]\n",
            " [ 1.22474487  1.22474487  1.22474487]]\n",
            "Covariance matrix:\n",
            "[[1.5 1.5 1.5]\n",
            " [1.5 1.5 1.5]\n",
            " [1.5 1.5 1.5]]\n",
            "Eigenvalues:\n",
            "[0.  4.5 0. ]\n",
            "Eigenvectors:\n",
            "[[-0.81649658  0.57735027  0.        ]\n",
            " [ 0.40824829  0.57735027 -0.70710678]\n",
            " [ 0.40824829  0.57735027  0.70710678]]\n",
            "Projected data:\n",
            "[[-2.12132034e+00  1.68306266e-16]\n",
            " [ 0.00000000e+00  0.00000000e+00]\n",
            " [ 2.12132034e+00 -1.68306266e-16]]\n",
            "Variance explained:\n",
            "1.0\n"
          ]
        }
      ]
    },
    {
      "cell_type": "code",
      "source": [],
      "metadata": {
        "id": "5UeL8H1cjr8K"
      },
      "execution_count": null,
      "outputs": []
    }
  ]
}