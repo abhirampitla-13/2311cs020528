{
  "nbformat": 4,
  "nbformat_minor": 0,
  "metadata": {
    "colab": {
      "provenance": [],
      "authorship_tag": "ABX9TyMtvocq0V/rQnml1yS6lmox",
      "include_colab_link": true
    },
    "kernelspec": {
      "name": "python3",
      "display_name": "Python 3"
    },
    "language_info": {
      "name": "python"
    }
  },
  "cells": [
    {
      "cell_type": "markdown",
      "metadata": {
        "id": "view-in-github",
        "colab_type": "text"
      },
      "source": [
        "<a href=\"https://colab.research.google.com/github/abhirampitla-13/2311cs020528/blob/main/Untitled10.ipynb\" target=\"_parent\"><img src=\"https://colab.research.google.com/assets/colab-badge.svg\" alt=\"Open In Colab\"/></a>"
      ]
    },
    {
      "cell_type": "code",
      "execution_count": null,
      "metadata": {
        "id": "wCYSzWYjwd97"
      },
      "outputs": [],
      "source": [
        "import re\n",
        "\n",
        "def is_valid_password(password):\n",
        "    # Check the length of the password\n",
        "    if len(password) < 8:\n",
        "        return False\n",
        "\n",
        "    # Check for at least one uppercase letter\n",
        "    if not re.search(r'[A-Z]', password):\n",
        "        return False\n",
        "\n",
        "    # Check for at least one lowercase letter\n",
        "    if not re.search(r'[a-z]', password):\n",
        "        return False\n",
        "\n",
        "    # Check for at least one digit\n",
        "    if not re.search(r'[0-9]', password):\n",
        "        return False\n",
        "\n",
        "    # Check for at least one special character\n",
        "    if not re.search(r'[!@#$%^&*(),.?\":{}|<>]', password):\n",
        "        return False\n",
        "\n",
        "    return True\n",
        "\n",
        "# Example usage\n",
        "password = input(\"Enter your password: \")\n",
        "\n",
        "if is_valid_password(password):\n",
        "    print(\"Password is valid.\")\n",
        "else:\n",
        "    print(\"Password is invalid. Please ensure it meets the criteria.\")"
      ]
    }
  ]
}