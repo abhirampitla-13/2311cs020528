{
  "nbformat": 4,
  "nbformat_minor": 0,
  "metadata": {
    "colab": {
      "provenance": [],
      "authorship_tag": "ABX9TyOOxpQt/a0OKgOVsgzPcZ2l",
      "include_colab_link": true
    },
    "kernelspec": {
      "name": "python3",
      "display_name": "Python 3"
    },
    "language_info": {
      "name": "python"
    }
  },
  "cells": [
    {
      "cell_type": "markdown",
      "metadata": {
        "id": "view-in-github",
        "colab_type": "text"
      },
      "source": [
        "<a href=\"https://colab.research.google.com/github/abhirampitla-13/2311cs020528/blob/main/2311cs020528_py.ipynb\" target=\"_parent\"><img src=\"https://colab.research.google.com/assets/colab-badge.svg\" alt=\"Open In Colab\"/></a>"
      ]
    },
    {
      "cell_type": "code",
      "execution_count": null,
      "metadata": {
        "colab": {
          "base_uri": "https://localhost:8080/"
        },
        "id": "tXZyCUfaZpos",
        "outputId": "ed3b476c-d5f6-4ec6-eb89-bfe8e184db13"
      },
      "outputs": [
        {
          "output_type": "stream",
          "name": "stdout",
          "text": [
            "{'screen_time': [2, 4, 5], 'sleep_hours': [3, 4, 6], 'stu_name': ['abhiram', 'teju', 'abhi']}\n",
            "   screen_time  sleep_hours stu_name\n",
            "0            2            3  abhiram\n",
            "1            4            4     teju\n",
            "2            5            6     abhi\n"
          ]
        }
      ],
      "source": [
        "import pandas as pd\n",
        "screen_time = [2,4,5]\n",
        "sleep_hours = [3,4,6]\n",
        "stu_name = [\"abhiram\", \"teju\", \"abhi\"]\n",
        "dict1 = {\n",
        "    \"screen_time\":screen_time,\n",
        "    \"sleep_hours\":sleep_hours,\n",
        "    \"stu_name\":stu_name\n",
        "\n",
        "}\n",
        "print(dict1)\n",
        "df = pd.DataFrame(dict1)\n",
        "print(df)"
      ]
    },
    {
      "cell_type": "code",
      "source": [
        "list = [1,2,3,5,6,7,8,9]\n",
        "res= [i for i in list if i % 2 == 0]\n",
        "print(\"Even numbers\",res)"
      ],
      "metadata": {
        "colab": {
          "base_uri": "https://localhost:8080/"
        },
        "id": "LkwjFMCqeFRU",
        "outputId": "2d3c9cca-4023-4905-9edf-f655ca9b59f2"
      },
      "execution_count": null,
      "outputs": [
        {
          "output_type": "stream",
          "name": "stdout",
          "text": [
            "Even numbers [2, 6, 8]\n"
          ]
        }
      ]
    }
  ]
}