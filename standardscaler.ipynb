{
  "nbformat": 4,
  "nbformat_minor": 0,
  "metadata": {
    "colab": {
      "provenance": [],
      "authorship_tag": "ABX9TyP9GQO6MduLJSr8wxWhdRq7",
      "include_colab_link": true
    },
    "kernelspec": {
      "name": "python3",
      "display_name": "Python 3"
    },
    "language_info": {
      "name": "python"
    }
  },
  "cells": [
    {
      "cell_type": "markdown",
      "metadata": {
        "id": "view-in-github",
        "colab_type": "text"
      },
      "source": [
        "<a href=\"https://colab.research.google.com/github/abhirampitla-13/2311cs020528/blob/main/standardscaler.ipynb\" target=\"_parent\"><img src=\"https://colab.research.google.com/assets/colab-badge.svg\" alt=\"Open In Colab\"/></a>"
      ]
    },
    {
      "cell_type": "code",
      "execution_count": 1,
      "metadata": {
        "colab": {
          "base_uri": "https://localhost:8080/"
        },
        "id": "F9GWBEP2qBra",
        "outputId": "e43a383f-196d-4723-b213-fe1715999062"
      },
      "outputs": [
        {
          "output_type": "stream",
          "name": "stdout",
          "text": [
            "Original DataFrame:\n",
            "   age  height  weight\n",
            "0   25     150      50\n",
            "1   30     160      60\n",
            "2   35     170      70\n",
            "3   40     180      80\n",
            "4   45     190      90\n",
            "\n",
            "Normalized DataFrame:\n",
            "        age    height    weight\n",
            "0 -1.414214 -1.414214 -1.414214\n",
            "1 -0.707107 -0.707107 -0.707107\n",
            "2  0.000000  0.000000  0.000000\n",
            "3  0.707107  0.707107  0.707107\n",
            "4  1.414214  1.414214  1.414214\n"
          ]
        }
      ],
      "source": [
        "import pandas as pd\n",
        "from sklearn.preprocessing import StandardScaler\n",
        "data = {\n",
        "    \"age\": [25, 30, 35, 40, 45],\n",
        "    \"height\":[150, 160, 170, 180, 190],\n",
        "    \"weight\": [50, 60, 70, 80, 90]\n",
        "}\n",
        "df = pd.DataFrame(data)\n",
        "scaler = StandardScaler()\n",
        "scaled_data = scaler.fit_transform(df)\n",
        "scaled_df = pd.DataFrame(scaled_data, columns=df.columns)\n",
        "print(\"Original DataFrame:\")\n",
        "print(df)\n",
        "scaler = StandardScaler()\n",
        "\n",
        "normalized_data = scaler.fit_transform(df)\n",
        "normalized_df = pd.DataFrame(normalized_data, columns=df.columns)\n",
        "print(\"\\nNormalized DataFrame:\")\n",
        "print(normalized_df)"
      ]
    },
    {
      "cell_type": "code",
      "source": [],
      "metadata": {
        "id": "6O-ywJEdqEoA"
      },
      "execution_count": null,
      "outputs": []
    }
  ]
}